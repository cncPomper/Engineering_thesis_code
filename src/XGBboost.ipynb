{
 "cells": [
  {
   "cell_type": "code",
   "execution_count": 1,
   "metadata": {},
   "outputs": [
    {
     "name": "stderr",
     "output_type": "stream",
     "text": [
      "C:\\ML\\kaggle\\kaggle_competition\\lib\\site-packages\\scipy\\__init__.py:146: UserWarning: A NumPy version >=1.16.5 and <1.23.0 is required for this version of SciPy (detected version 1.25.2\n",
      "  warnings.warn(f\"A NumPy version >={np_minversion} and <{np_maxversion}\"\n"
     ]
    }
   ],
   "source": [
    "import os\n",
    "import pandas as pd\n",
    "import numpy as np\n",
    "import matplotlib.pyplot as plt\n",
    "from sklearn.metrics import mean_absolute_error\n",
    "\n",
    "import random \n",
    "\n",
    "import yfinance as yf\n",
    "from yahooquery import Ticker\n",
    "from yahooquery import Screener\n",
    "\n",
    "from sklearn.metrics import mean_squared_error as mse\n",
    "\n",
    "from sklearn.model_selection import train_test_split\n",
    "\n",
    "import xgboost as xgb\n",
    "\n",
    "from utils import *\n",
    "\n",
    "from sklearn.preprocessing import MinMaxScaler, RobustScaler\n"
   ]
  },
  {
   "cell_type": "code",
   "execution_count": 2,
   "metadata": {},
   "outputs": [],
   "source": [
    "class CFG:\n",
    "    data_path = \"../data\"\n",
    "    img_dim1 = 20\n",
    "    img_dim2 = 10\n",
    "    nepochs = 6\n",
    "    seed = 42\n",
    "    EPOCH = 300\n",
    "    bsize = 16\n",
    "    BATCH_SIZE = 1024\n",
    "\n",
    "\n",
    "# adjust the parameters for displayed figures    \n",
    "plt.rcParams.update({'figure.figsize': (CFG.img_dim1,CFG.img_dim2)})   \n",
    "\n",
    "\n",
    "def seed_everything(seed: int = 42) -> None:\n",
    "    np.random.seed(seed)\n",
    "    os.environ[\"PYTHONHASHSEED\"] = str(seed)\n",
    "    \n",
    "seed_everything(CFG.seed)"
   ]
  },
  {
   "cell_type": "code",
   "execution_count": 3,
   "metadata": {},
   "outputs": [
    {
     "name": "stdout",
     "output_type": "stream",
     "text": [
      "[*********************100%***********************]  1 of 1 completed\n",
      "[*********************100%***********************]  1 of 1 completed\n",
      "[*********************100%***********************]  1 of 1 completed\n"
     ]
    }
   ],
   "source": [
    "START_DATE = '2017-01-01'\n",
    "END_DATE = '2023-01-01'\n",
    "\n",
    "nq = yf.download(tickers = \"^IXIC\",  \n",
    "                    start=START_DATE, \n",
    "                    end=END_DATE)\n",
    "\n",
    "dji = yf.download(tickers = \"^DJI\",  \n",
    "                    start=START_DATE, \n",
    "                    end=END_DATE)\n",
    "\n",
    "spx = yf.download(tickers = \"^SPX\",  \n",
    "                    start=START_DATE, \n",
    "                    end=END_DATE)"
   ]
  },
  {
   "cell_type": "code",
   "execution_count": 4,
   "metadata": {},
   "outputs": [],
   "source": [
    "merged_df_dict = {\n",
    "                  'Date': np.array(nq.index), \n",
    "                  'IXIC': np.array(nq.Close.values), \n",
    "                  'SPX': np.array(spx.Close.values), \n",
    "                  'DJI': np.array(dji.Close.values)\n",
    "                  }\n",
    "\n",
    "merged_df_index = nq.index\n",
    "\n",
    "merged_df = pd.DataFrame(data=merged_df_dict, index=merged_df_index, columns=['Date', 'IXIC', 'SPX', 'DJI'])"
   ]
  },
  {
   "cell_type": "code",
   "execution_count": 6,
   "metadata": {},
   "outputs": [],
   "source": [
    "xgb_predictions_n_errors = pd.DataFrame(\n",
    "                                        data=None,\n",
    "                                        index=None,\n",
    "                                        columns=['1_day', '5_days', '10_days', '1_month', '2_months', '6_months', '1_year']\n",
    "                                        )\n",
    "\n",
    "xgb_predictions_n_errors['Dataset'] = ['IXIC', 'IXIC', 'IXIC', 'DJI', 'DJI', 'DJI', 'SPX', 'SPX', 'SPX']\n",
    "xgb_predictions_n_errors['Metric'] = ['RMSE', 'MAE', 'MAPE', 'RMSE', 'MAE', 'MAPE', 'RMSE', 'MAE', 'MAPE']\n",
    "\n",
    "xgb_predictions_n_errors.set_index(['Dataset', 'Metric'], inplace=True)"
   ]
  },
  {
   "cell_type": "code",
   "execution_count": 7,
   "metadata": {},
   "outputs": [
    {
     "data": {
      "text/html": [
       "<div>\n",
       "<style scoped>\n",
       "    .dataframe tbody tr th:only-of-type {\n",
       "        vertical-align: middle;\n",
       "    }\n",
       "\n",
       "    .dataframe tbody tr th {\n",
       "        vertical-align: top;\n",
       "    }\n",
       "\n",
       "    .dataframe thead th {\n",
       "        text-align: right;\n",
       "    }\n",
       "</style>\n",
       "<table border=\"1\" class=\"dataframe\">\n",
       "  <thead>\n",
       "    <tr style=\"text-align: right;\">\n",
       "      <th></th>\n",
       "      <th></th>\n",
       "      <th>1_day</th>\n",
       "      <th>5_days</th>\n",
       "      <th>10_days</th>\n",
       "      <th>1_month</th>\n",
       "      <th>2_months</th>\n",
       "      <th>6_months</th>\n",
       "      <th>1_year</th>\n",
       "    </tr>\n",
       "    <tr>\n",
       "      <th>Dataset</th>\n",
       "      <th>Metric</th>\n",
       "      <th></th>\n",
       "      <th></th>\n",
       "      <th></th>\n",
       "      <th></th>\n",
       "      <th></th>\n",
       "      <th></th>\n",
       "      <th></th>\n",
       "    </tr>\n",
       "  </thead>\n",
       "  <tbody>\n",
       "    <tr>\n",
       "      <th rowspan=\"3\" valign=\"top\">IXIC</th>\n",
       "      <th>RMSE</th>\n",
       "      <td>NaN</td>\n",
       "      <td>NaN</td>\n",
       "      <td>NaN</td>\n",
       "      <td>NaN</td>\n",
       "      <td>NaN</td>\n",
       "      <td>NaN</td>\n",
       "      <td>NaN</td>\n",
       "    </tr>\n",
       "    <tr>\n",
       "      <th>MAE</th>\n",
       "      <td>NaN</td>\n",
       "      <td>NaN</td>\n",
       "      <td>NaN</td>\n",
       "      <td>NaN</td>\n",
       "      <td>NaN</td>\n",
       "      <td>NaN</td>\n",
       "      <td>NaN</td>\n",
       "    </tr>\n",
       "    <tr>\n",
       "      <th>MAPE</th>\n",
       "      <td>NaN</td>\n",
       "      <td>NaN</td>\n",
       "      <td>NaN</td>\n",
       "      <td>NaN</td>\n",
       "      <td>NaN</td>\n",
       "      <td>NaN</td>\n",
       "      <td>NaN</td>\n",
       "    </tr>\n",
       "    <tr>\n",
       "      <th rowspan=\"3\" valign=\"top\">DJI</th>\n",
       "      <th>RMSE</th>\n",
       "      <td>NaN</td>\n",
       "      <td>NaN</td>\n",
       "      <td>NaN</td>\n",
       "      <td>NaN</td>\n",
       "      <td>NaN</td>\n",
       "      <td>NaN</td>\n",
       "      <td>NaN</td>\n",
       "    </tr>\n",
       "    <tr>\n",
       "      <th>MAE</th>\n",
       "      <td>NaN</td>\n",
       "      <td>NaN</td>\n",
       "      <td>NaN</td>\n",
       "      <td>NaN</td>\n",
       "      <td>NaN</td>\n",
       "      <td>NaN</td>\n",
       "      <td>NaN</td>\n",
       "    </tr>\n",
       "    <tr>\n",
       "      <th>MAPE</th>\n",
       "      <td>NaN</td>\n",
       "      <td>NaN</td>\n",
       "      <td>NaN</td>\n",
       "      <td>NaN</td>\n",
       "      <td>NaN</td>\n",
       "      <td>NaN</td>\n",
       "      <td>NaN</td>\n",
       "    </tr>\n",
       "    <tr>\n",
       "      <th rowspan=\"3\" valign=\"top\">SPX</th>\n",
       "      <th>RMSE</th>\n",
       "      <td>NaN</td>\n",
       "      <td>NaN</td>\n",
       "      <td>NaN</td>\n",
       "      <td>NaN</td>\n",
       "      <td>NaN</td>\n",
       "      <td>NaN</td>\n",
       "      <td>NaN</td>\n",
       "    </tr>\n",
       "    <tr>\n",
       "      <th>MAE</th>\n",
       "      <td>NaN</td>\n",
       "      <td>NaN</td>\n",
       "      <td>NaN</td>\n",
       "      <td>NaN</td>\n",
       "      <td>NaN</td>\n",
       "      <td>NaN</td>\n",
       "      <td>NaN</td>\n",
       "    </tr>\n",
       "    <tr>\n",
       "      <th>MAPE</th>\n",
       "      <td>NaN</td>\n",
       "      <td>NaN</td>\n",
       "      <td>NaN</td>\n",
       "      <td>NaN</td>\n",
       "      <td>NaN</td>\n",
       "      <td>NaN</td>\n",
       "      <td>NaN</td>\n",
       "    </tr>\n",
       "  </tbody>\n",
       "</table>\n",
       "</div>"
      ],
      "text/plain": [
       "               1_day 5_days 10_days 1_month 2_months 6_months 1_year\n",
       "Dataset Metric                                                      \n",
       "IXIC    RMSE     NaN    NaN     NaN     NaN      NaN      NaN    NaN\n",
       "        MAE      NaN    NaN     NaN     NaN      NaN      NaN    NaN\n",
       "        MAPE     NaN    NaN     NaN     NaN      NaN      NaN    NaN\n",
       "DJI     RMSE     NaN    NaN     NaN     NaN      NaN      NaN    NaN\n",
       "        MAE      NaN    NaN     NaN     NaN      NaN      NaN    NaN\n",
       "        MAPE     NaN    NaN     NaN     NaN      NaN      NaN    NaN\n",
       "SPX     RMSE     NaN    NaN     NaN     NaN      NaN      NaN    NaN\n",
       "        MAE      NaN    NaN     NaN     NaN      NaN      NaN    NaN\n",
       "        MAPE     NaN    NaN     NaN     NaN      NaN      NaN    NaN"
      ]
     },
     "execution_count": 7,
     "metadata": {},
     "output_type": "execute_result"
    }
   ],
   "source": [
    "xgb_predictions_n_errors"
   ]
  },
  {
   "cell_type": "code",
   "execution_count": 36,
   "metadata": {},
   "outputs": [],
   "source": [
    "def xgb_pipe(lookback_horizon, save_dir, model_str, xgb_predictions_n_errors):\n",
    "\n",
    "        for dataset in set(xgb_predictions_n_errors.index.get_level_values(0)):\n",
    "\n",
    "                df = merged_df[['Date', dataset]].copy()\n",
    "                df['Date'] = pd.to_datetime(df['Date'])\n",
    "                df.set_index('Date', inplace=True)\n",
    "\n",
    "                scaler = MinMaxScaler()\n",
    "                df = scaler.fit_transform(df)\n",
    "        \n",
    "                for pred_horizon, horizon_string in [[1, '1_day'], [5, '5_days'], [10, '10_days'], [30, '1_month']]:\n",
    "\n",
    "                        look_back = lookback_horizon\n",
    "                        look_ahead = pred_horizon\n",
    "\n",
    "                        xdat, ydat = create_dataset(\n",
    "                                                df,\n",
    "                                                look_back = look_back,\n",
    "                                                look_ahead = look_ahead\n",
    "                                                )\n",
    "\n",
    "                        # [batch size, time steps, dimensionality]\n",
    "                        xtrain, ytrain, xvalid, yvalid = prepare_split(\n",
    "                                                                xdat,\n",
    "                                                                ydat,\n",
    "                                                                cutoff = int(len(xdat) * 0.8),\n",
    "                                                                timesteps = look_back\n",
    "                                                                )\n",
    "                        print(f\"train before {xtrain.shape}\")\n",
    "                        xtrain.shape = xtrain.shape[0], xtrain.shape[1]\n",
    "                        xvalid.shape = xvalid.shape[0], xvalid.shape[1]\n",
    "                        print(f\"train after {xtrain.shape}\")\n",
    "                        reg = xgb.XGBRegressor(\n",
    "                                n_estimators=1000,\n",
    "                                eta=0.05\n",
    "                                )\n",
    "\n",
    "                        reg.fit(\n",
    "                                xtrain, ytrain,\n",
    "                                eval_set=[(xtrain, ytrain), (xvalid, yvalid)],\n",
    "                                eval_metric='logloss',\n",
    "                                early_stopping_rounds=50,\n",
    "                                verbose=100\n",
    "                        )\n",
    "\n",
    "                        y_pred = reg.predict(xvalid)\n",
    "                        print(f\"Prediction {y_pred.shape}\")\n",
    "                        print(f\"Valid {yvalid.shape}\")\n",
    "\n",
    "                        if pred_horizon == 1:\n",
    "                                y_pred = y_pred.reshape(-1, 1)\n",
    "                                \n",
    "                        y_pred = scaler.inverse_transform(y_pred)\n",
    "                        yvalid = scaler.inverse_transform(yvalid)\n",
    "                        # print(f\"Valid {yvalid[:20]}\")\n",
    "\n",
    "                        if pred_horizon == 1:\n",
    "                                plt.plot(yvalid, label=\"True\")\n",
    "                                plt.plot(y_pred, label=\"Forecast\")\n",
    "                        else:\n",
    "\n",
    "                                # plt.plot([item[0] for item in yvalid], label=\"True\")\n",
    "                                plt.plot([item[0] for item in yvalid], label=\"True\")\n",
    "                                # plt.plot([item.mean() for item in y_pred], label=\"Forecast\")\n",
    "                                # plt.plot([item[0] for item in y_pred], label=\"Forecast\")\n",
    "                                plt.plot([item[0] for item in y_pred], label=\"Forecast\")\n",
    "                        plt.legend()\n",
    "                        plt.savefig(\n",
    "                                        f\"{CFG.data_path}/{save_dir}/{model_str}/{model_str}_{dataset}_{horizon_string}.jpg\", \n",
    "                                        bbox_inches='tight', dpi=120\n",
    "                                        )\n",
    "                        plt.clf()\n",
    "\n",
    "                        xgb_predictions_n_errors = assign_values(xgb_predictions_n_errors,\n",
    "                                                                        dataset,\n",
    "                                                                        y_pred,\n",
    "                                                                        yvalid,\n",
    "                                                                        horizon_string)\n",
    "\n",
    "        xgb_predictions_n_errors.to_csv(f\"{CFG.data_path}/{save_dir}/{model_str}/{model_str}_{save_dir}_window_errors.csv\")\n",
    "# y_pred5 = model5.predict(xvalid)\n",
    "# y_pred5 = scaler.inverse_transform(y_pred5)"
   ]
  },
  {
   "cell_type": "code",
   "execution_count": 17,
   "metadata": {},
   "outputs": [
    {
     "name": "stdout",
     "output_type": "stream",
     "text": [
      "[0]\tvalidation_0-logloss:0.67691\tvalidation_1-logloss:0.67808\n"
     ]
    },
    {
     "name": "stderr",
     "output_type": "stream",
     "text": [
      "C:\\ML\\kaggle\\kaggle_competition\\lib\\site-packages\\xgboost\\sklearn.py:835: UserWarning: `eval_metric` in `fit` method is deprecated for better compatibility with scikit-learn, use `eval_metric` in constructor or`set_params` instead.\n",
      "  warnings.warn(\n",
      "C:\\ML\\kaggle\\kaggle_competition\\lib\\site-packages\\xgboost\\sklearn.py:835: UserWarning: `early_stopping_rounds` in `fit` method is deprecated for better compatibility with scikit-learn, use `early_stopping_rounds` in constructor or`set_params` instead.\n",
      "  warnings.warn(\n"
     ]
    },
    {
     "name": "stdout",
     "output_type": "stream",
     "text": [
      "[100]\tvalidation_0-logloss:0.50461\tvalidation_1-logloss:0.50668\n",
      "[200]\tvalidation_0-logloss:0.50450\tvalidation_1-logloss:0.50598\n",
      "[300]\tvalidation_0-logloss:0.50448\tvalidation_1-logloss:0.50576\n",
      "[400]\tvalidation_0-logloss:0.50447\tvalidation_1-logloss:0.50573\n",
      "[405]\tvalidation_0-logloss:0.50447\tvalidation_1-logloss:0.50574\n",
      "(298,)\n",
      "(298, 1)\n",
      "[0]\tvalidation_0-logloss:0.67700\tvalidation_1-logloss:0.67787\n"
     ]
    },
    {
     "name": "stderr",
     "output_type": "stream",
     "text": [
      "C:\\ML\\kaggle\\kaggle_competition\\lib\\site-packages\\xgboost\\sklearn.py:835: UserWarning: `eval_metric` in `fit` method is deprecated for better compatibility with scikit-learn, use `eval_metric` in constructor or`set_params` instead.\n",
      "  warnings.warn(\n",
      "C:\\ML\\kaggle\\kaggle_competition\\lib\\site-packages\\xgboost\\sklearn.py:835: UserWarning: `early_stopping_rounds` in `fit` method is deprecated for better compatibility with scikit-learn, use `early_stopping_rounds` in constructor or`set_params` instead.\n",
      "  warnings.warn(\n"
     ]
    },
    {
     "name": "stdout",
     "output_type": "stream",
     "text": [
      "[100]\tvalidation_0-logloss:0.50557\tvalidation_1-logloss:0.51293\n",
      "[200]\tvalidation_0-logloss:0.50538\tvalidation_1-logloss:0.51248\n",
      "[300]\tvalidation_0-logloss:0.50533\tvalidation_1-logloss:0.51232\n",
      "[400]\tvalidation_0-logloss:0.50532\tvalidation_1-logloss:0.51227\n",
      "[452]\tvalidation_0-logloss:0.50531\tvalidation_1-logloss:0.51227\n",
      "(297, 5)\n",
      "(1485, 1)\n",
      "[0]\tvalidation_0-logloss:0.67712\tvalidation_1-logloss:0.67762\n"
     ]
    },
    {
     "name": "stderr",
     "output_type": "stream",
     "text": [
      "C:\\ML\\kaggle\\kaggle_competition\\lib\\site-packages\\xgboost\\sklearn.py:835: UserWarning: `eval_metric` in `fit` method is deprecated for better compatibility with scikit-learn, use `eval_metric` in constructor or`set_params` instead.\n",
      "  warnings.warn(\n",
      "C:\\ML\\kaggle\\kaggle_competition\\lib\\site-packages\\xgboost\\sklearn.py:835: UserWarning: `early_stopping_rounds` in `fit` method is deprecated for better compatibility with scikit-learn, use `early_stopping_rounds` in constructor or`set_params` instead.\n",
      "  warnings.warn(\n"
     ]
    },
    {
     "name": "stdout",
     "output_type": "stream",
     "text": [
      "[100]\tvalidation_0-logloss:0.50669\tvalidation_1-logloss:0.51563\n",
      "[200]\tvalidation_0-logloss:0.50643\tvalidation_1-logloss:0.51539\n",
      "[300]\tvalidation_0-logloss:0.50637\tvalidation_1-logloss:0.51535\n",
      "[400]\tvalidation_0-logloss:0.50635\tvalidation_1-logloss:0.51534\n",
      "[432]\tvalidation_0-logloss:0.50634\tvalidation_1-logloss:0.51535\n",
      "(296, 10)\n",
      "(2960, 1)\n",
      "[0]\tvalidation_0-logloss:0.67747\tvalidation_1-logloss:0.67687\n"
     ]
    },
    {
     "name": "stderr",
     "output_type": "stream",
     "text": [
      "C:\\ML\\kaggle\\kaggle_competition\\lib\\site-packages\\xgboost\\sklearn.py:835: UserWarning: `eval_metric` in `fit` method is deprecated for better compatibility with scikit-learn, use `eval_metric` in constructor or`set_params` instead.\n",
      "  warnings.warn(\n",
      "C:\\ML\\kaggle\\kaggle_competition\\lib\\site-packages\\xgboost\\sklearn.py:835: UserWarning: `early_stopping_rounds` in `fit` method is deprecated for better compatibility with scikit-learn, use `early_stopping_rounds` in constructor or`set_params` instead.\n",
      "  warnings.warn(\n"
     ]
    },
    {
     "name": "stdout",
     "output_type": "stream",
     "text": [
      "[100]\tvalidation_0-logloss:0.51007\tvalidation_1-logloss:0.51699\n",
      "[117]\tvalidation_0-logloss:0.50994\tvalidation_1-logloss:0.51704\n",
      "(292, 30)\n",
      "(8760, 1)\n",
      "[0]\tvalidation_0-logloss:0.68334\tvalidation_1-logloss:0.67313\n"
     ]
    },
    {
     "name": "stderr",
     "output_type": "stream",
     "text": [
      "C:\\ML\\kaggle\\kaggle_competition\\lib\\site-packages\\xgboost\\sklearn.py:835: UserWarning: `eval_metric` in `fit` method is deprecated for better compatibility with scikit-learn, use `eval_metric` in constructor or`set_params` instead.\n",
      "  warnings.warn(\n",
      "C:\\ML\\kaggle\\kaggle_competition\\lib\\site-packages\\xgboost\\sklearn.py:835: UserWarning: `early_stopping_rounds` in `fit` method is deprecated for better compatibility with scikit-learn, use `early_stopping_rounds` in constructor or`set_params` instead.\n",
      "  warnings.warn(\n"
     ]
    },
    {
     "name": "stdout",
     "output_type": "stream",
     "text": [
      "[100]\tvalidation_0-logloss:0.58055\tvalidation_1-logloss:0.45474\n",
      "[200]\tvalidation_0-logloss:0.58044\tvalidation_1-logloss:0.45447\n",
      "[300]\tvalidation_0-logloss:0.58041\tvalidation_1-logloss:0.45441\n",
      "[395]\tvalidation_0-logloss:0.58040\tvalidation_1-logloss:0.45439\n",
      "(298,)\n",
      "(298, 1)\n",
      "[0]\tvalidation_0-logloss:0.68347\tvalidation_1-logloss:0.67296\n"
     ]
    },
    {
     "name": "stderr",
     "output_type": "stream",
     "text": [
      "C:\\ML\\kaggle\\kaggle_competition\\lib\\site-packages\\xgboost\\sklearn.py:835: UserWarning: `eval_metric` in `fit` method is deprecated for better compatibility with scikit-learn, use `eval_metric` in constructor or`set_params` instead.\n",
      "  warnings.warn(\n",
      "C:\\ML\\kaggle\\kaggle_competition\\lib\\site-packages\\xgboost\\sklearn.py:835: UserWarning: `early_stopping_rounds` in `fit` method is deprecated for better compatibility with scikit-learn, use `early_stopping_rounds` in constructor or`set_params` instead.\n",
      "  warnings.warn(\n"
     ]
    },
    {
     "name": "stdout",
     "output_type": "stream",
     "text": [
      "[100]\tvalidation_0-logloss:0.58151\tvalidation_1-logloss:0.46089\n",
      "[200]\tvalidation_0-logloss:0.58130\tvalidation_1-logloss:0.46087\n",
      "[286]\tvalidation_0-logloss:0.58125\tvalidation_1-logloss:0.46088\n",
      "(297, 5)\n",
      "(1485, 1)\n",
      "[0]\tvalidation_0-logloss:0.68361\tvalidation_1-logloss:0.67273\n"
     ]
    },
    {
     "name": "stderr",
     "output_type": "stream",
     "text": [
      "C:\\ML\\kaggle\\kaggle_competition\\lib\\site-packages\\xgboost\\sklearn.py:835: UserWarning: `eval_metric` in `fit` method is deprecated for better compatibility with scikit-learn, use `eval_metric` in constructor or`set_params` instead.\n",
      "  warnings.warn(\n",
      "C:\\ML\\kaggle\\kaggle_competition\\lib\\site-packages\\xgboost\\sklearn.py:835: UserWarning: `early_stopping_rounds` in `fit` method is deprecated for better compatibility with scikit-learn, use `early_stopping_rounds` in constructor or`set_params` instead.\n",
      "  warnings.warn(\n"
     ]
    },
    {
     "name": "stdout",
     "output_type": "stream",
     "text": [
      "[100]\tvalidation_0-logloss:0.58265\tvalidation_1-logloss:0.46713\n",
      "[139]\tvalidation_0-logloss:0.58246\tvalidation_1-logloss:0.46719\n",
      "(296, 10)\n",
      "(2960, 1)\n",
      "[0]\tvalidation_0-logloss:0.68400\tvalidation_1-logloss:0.67281\n"
     ]
    },
    {
     "name": "stderr",
     "output_type": "stream",
     "text": [
      "C:\\ML\\kaggle\\kaggle_competition\\lib\\site-packages\\xgboost\\sklearn.py:835: UserWarning: `eval_metric` in `fit` method is deprecated for better compatibility with scikit-learn, use `eval_metric` in constructor or`set_params` instead.\n",
      "  warnings.warn(\n",
      "C:\\ML\\kaggle\\kaggle_competition\\lib\\site-packages\\xgboost\\sklearn.py:835: UserWarning: `early_stopping_rounds` in `fit` method is deprecated for better compatibility with scikit-learn, use `early_stopping_rounds` in constructor or`set_params` instead.\n",
      "  warnings.warn(\n"
     ]
    },
    {
     "name": "stdout",
     "output_type": "stream",
     "text": [
      "[93]\tvalidation_0-logloss:0.58615\tvalidation_1-logloss:0.48999\n",
      "(292, 30)\n",
      "(8760, 1)\n",
      "[0]\tvalidation_0-logloss:0.67535\tvalidation_1-logloss:0.68193\n"
     ]
    },
    {
     "name": "stderr",
     "output_type": "stream",
     "text": [
      "C:\\ML\\kaggle\\kaggle_competition\\lib\\site-packages\\xgboost\\sklearn.py:835: UserWarning: `eval_metric` in `fit` method is deprecated for better compatibility with scikit-learn, use `eval_metric` in constructor or`set_params` instead.\n",
      "  warnings.warn(\n",
      "C:\\ML\\kaggle\\kaggle_competition\\lib\\site-packages\\xgboost\\sklearn.py:835: UserWarning: `early_stopping_rounds` in `fit` method is deprecated for better compatibility with scikit-learn, use `early_stopping_rounds` in constructor or`set_params` instead.\n",
      "  warnings.warn(\n"
     ]
    },
    {
     "name": "stdout",
     "output_type": "stream",
     "text": [
      "[100]\tvalidation_0-logloss:0.48614\tvalidation_1-logloss:0.55386\n",
      "[200]\tvalidation_0-logloss:0.48607\tvalidation_1-logloss:0.55348\n",
      "[300]\tvalidation_0-logloss:0.48605\tvalidation_1-logloss:0.55346\n",
      "[308]\tvalidation_0-logloss:0.48605\tvalidation_1-logloss:0.55346\n",
      "(298,)\n",
      "(298, 1)\n",
      "[0]\tvalidation_0-logloss:0.67543\tvalidation_1-logloss:0.68163\n"
     ]
    },
    {
     "name": "stderr",
     "output_type": "stream",
     "text": [
      "C:\\ML\\kaggle\\kaggle_competition\\lib\\site-packages\\xgboost\\sklearn.py:835: UserWarning: `eval_metric` in `fit` method is deprecated for better compatibility with scikit-learn, use `eval_metric` in constructor or`set_params` instead.\n",
      "  warnings.warn(\n",
      "C:\\ML\\kaggle\\kaggle_competition\\lib\\site-packages\\xgboost\\sklearn.py:835: UserWarning: `early_stopping_rounds` in `fit` method is deprecated for better compatibility with scikit-learn, use `early_stopping_rounds` in constructor or`set_params` instead.\n",
      "  warnings.warn(\n"
     ]
    },
    {
     "name": "stdout",
     "output_type": "stream",
     "text": [
      "[100]\tvalidation_0-logloss:0.48702\tvalidation_1-logloss:0.55801\n",
      "[200]\tvalidation_0-logloss:0.48690\tvalidation_1-logloss:0.55780\n",
      "[231]\tvalidation_0-logloss:0.48689\tvalidation_1-logloss:0.55781\n",
      "(297, 5)\n",
      "(1485, 1)\n",
      "[0]\tvalidation_0-logloss:0.67552\tvalidation_1-logloss:0.68136\n"
     ]
    },
    {
     "name": "stderr",
     "output_type": "stream",
     "text": [
      "C:\\ML\\kaggle\\kaggle_competition\\lib\\site-packages\\xgboost\\sklearn.py:835: UserWarning: `eval_metric` in `fit` method is deprecated for better compatibility with scikit-learn, use `eval_metric` in constructor or`set_params` instead.\n",
      "  warnings.warn(\n",
      "C:\\ML\\kaggle\\kaggle_competition\\lib\\site-packages\\xgboost\\sklearn.py:835: UserWarning: `early_stopping_rounds` in `fit` method is deprecated for better compatibility with scikit-learn, use `early_stopping_rounds` in constructor or`set_params` instead.\n",
      "  warnings.warn(\n"
     ]
    },
    {
     "name": "stdout",
     "output_type": "stream",
     "text": [
      "[100]\tvalidation_0-logloss:0.48809\tvalidation_1-logloss:0.55844\n",
      "[200]\tvalidation_0-logloss:0.48793\tvalidation_1-logloss:0.55825\n",
      "[300]\tvalidation_0-logloss:0.48789\tvalidation_1-logloss:0.55824\n",
      "[364]\tvalidation_0-logloss:0.48788\tvalidation_1-logloss:0.55823\n",
      "(296, 10)\n",
      "(2960, 1)\n",
      "[0]\tvalidation_0-logloss:0.67582\tvalidation_1-logloss:0.68030\n"
     ]
    },
    {
     "name": "stderr",
     "output_type": "stream",
     "text": [
      "C:\\ML\\kaggle\\kaggle_competition\\lib\\site-packages\\xgboost\\sklearn.py:835: UserWarning: `eval_metric` in `fit` method is deprecated for better compatibility with scikit-learn, use `eval_metric` in constructor or`set_params` instead.\n",
      "  warnings.warn(\n",
      "C:\\ML\\kaggle\\kaggle_competition\\lib\\site-packages\\xgboost\\sklearn.py:835: UserWarning: `early_stopping_rounds` in `fit` method is deprecated for better compatibility with scikit-learn, use `early_stopping_rounds` in constructor or`set_params` instead.\n",
      "  warnings.warn(\n"
     ]
    },
    {
     "name": "stdout",
     "output_type": "stream",
     "text": [
      "[100]\tvalidation_0-logloss:0.49156\tvalidation_1-logloss:0.56258\n",
      "[107]\tvalidation_0-logloss:0.49152\tvalidation_1-logloss:0.56273\n",
      "(292, 30)\n",
      "(8760, 1)\n"
     ]
    },
    {
     "data": {
      "text/plain": [
       "<Figure size 1440x720 with 0 Axes>"
      ]
     },
     "metadata": {},
     "output_type": "display_data"
    }
   ],
   "source": [
    "xgb_pipe(20, '20d', 'xgb', xgb_predictions_n_errors)"
   ]
  },
  {
   "cell_type": "code",
   "execution_count": 18,
   "metadata": {},
   "outputs": [
    {
     "name": "stdout",
     "output_type": "stream",
     "text": [
      "[0]\tvalidation_0-logloss:0.67745\tvalidation_1-logloss:0.67803\n"
     ]
    },
    {
     "name": "stderr",
     "output_type": "stream",
     "text": [
      "C:\\ML\\kaggle\\kaggle_competition\\lib\\site-packages\\xgboost\\sklearn.py:835: UserWarning: `eval_metric` in `fit` method is deprecated for better compatibility with scikit-learn, use `eval_metric` in constructor or`set_params` instead.\n",
      "  warnings.warn(\n",
      "C:\\ML\\kaggle\\kaggle_competition\\lib\\site-packages\\xgboost\\sklearn.py:835: UserWarning: `early_stopping_rounds` in `fit` method is deprecated for better compatibility with scikit-learn, use `early_stopping_rounds` in constructor or`set_params` instead.\n",
      "  warnings.warn(\n"
     ]
    },
    {
     "name": "stdout",
     "output_type": "stream",
     "text": [
      "[100]\tvalidation_0-logloss:0.51196\tvalidation_1-logloss:0.50742\n",
      "[200]\tvalidation_0-logloss:0.51186\tvalidation_1-logloss:0.50704\n",
      "[300]\tvalidation_0-logloss:0.51184\tvalidation_1-logloss:0.50694\n",
      "[400]\tvalidation_0-logloss:0.51183\tvalidation_1-logloss:0.50689\n",
      "[447]\tvalidation_0-logloss:0.51183\tvalidation_1-logloss:0.50689\n",
      "(292,)\n",
      "(292, 1)\n",
      "[0]\tvalidation_0-logloss:0.67754\tvalidation_1-logloss:0.67789\n"
     ]
    },
    {
     "name": "stderr",
     "output_type": "stream",
     "text": [
      "C:\\ML\\kaggle\\kaggle_competition\\lib\\site-packages\\xgboost\\sklearn.py:835: UserWarning: `eval_metric` in `fit` method is deprecated for better compatibility with scikit-learn, use `eval_metric` in constructor or`set_params` instead.\n",
      "  warnings.warn(\n",
      "C:\\ML\\kaggle\\kaggle_competition\\lib\\site-packages\\xgboost\\sklearn.py:835: UserWarning: `early_stopping_rounds` in `fit` method is deprecated for better compatibility with scikit-learn, use `early_stopping_rounds` in constructor or`set_params` instead.\n",
      "  warnings.warn(\n"
     ]
    },
    {
     "name": "stdout",
     "output_type": "stream",
     "text": [
      "[100]\tvalidation_0-logloss:0.51274\tvalidation_1-logloss:0.51437\n",
      "[200]\tvalidation_0-logloss:0.51259\tvalidation_1-logloss:0.51430\n",
      "[300]\tvalidation_0-logloss:0.51257\tvalidation_1-logloss:0.51427\n",
      "[400]\tvalidation_0-logloss:0.51256\tvalidation_1-logloss:0.51424\n",
      "[452]\tvalidation_0-logloss:0.51256\tvalidation_1-logloss:0.51424\n",
      "(291, 5)\n",
      "(1455, 1)\n",
      "[0]\tvalidation_0-logloss:0.67765\tvalidation_1-logloss:0.67736\n"
     ]
    },
    {
     "name": "stderr",
     "output_type": "stream",
     "text": [
      "C:\\ML\\kaggle\\kaggle_competition\\lib\\site-packages\\xgboost\\sklearn.py:835: UserWarning: `eval_metric` in `fit` method is deprecated for better compatibility with scikit-learn, use `eval_metric` in constructor or`set_params` instead.\n",
      "  warnings.warn(\n",
      "C:\\ML\\kaggle\\kaggle_competition\\lib\\site-packages\\xgboost\\sklearn.py:835: UserWarning: `early_stopping_rounds` in `fit` method is deprecated for better compatibility with scikit-learn, use `early_stopping_rounds` in constructor or`set_params` instead.\n",
      "  warnings.warn(\n"
     ]
    },
    {
     "name": "stdout",
     "output_type": "stream",
     "text": [
      "[100]\tvalidation_0-logloss:0.51375\tvalidation_1-logloss:0.52155\n",
      "[117]\tvalidation_0-logloss:0.51368\tvalidation_1-logloss:0.52189\n",
      "(290, 10)\n",
      "(2900, 1)\n",
      "[0]\tvalidation_0-logloss:0.67799\tvalidation_1-logloss:0.67584\n"
     ]
    },
    {
     "name": "stderr",
     "output_type": "stream",
     "text": [
      "C:\\ML\\kaggle\\kaggle_competition\\lib\\site-packages\\xgboost\\sklearn.py:835: UserWarning: `eval_metric` in `fit` method is deprecated for better compatibility with scikit-learn, use `eval_metric` in constructor or`set_params` instead.\n",
      "  warnings.warn(\n",
      "C:\\ML\\kaggle\\kaggle_competition\\lib\\site-packages\\xgboost\\sklearn.py:835: UserWarning: `early_stopping_rounds` in `fit` method is deprecated for better compatibility with scikit-learn, use `early_stopping_rounds` in constructor or`set_params` instead.\n",
      "  warnings.warn(\n"
     ]
    },
    {
     "name": "stdout",
     "output_type": "stream",
     "text": [
      "[89]\tvalidation_0-logloss:0.51742\tvalidation_1-logloss:0.53192\n",
      "(286, 30)\n",
      "(8580, 1)\n",
      "[0]\tvalidation_0-logloss:0.68371\tvalidation_1-logloss:0.67310\n"
     ]
    },
    {
     "name": "stderr",
     "output_type": "stream",
     "text": [
      "C:\\ML\\kaggle\\kaggle_competition\\lib\\site-packages\\xgboost\\sklearn.py:835: UserWarning: `eval_metric` in `fit` method is deprecated for better compatibility with scikit-learn, use `eval_metric` in constructor or`set_params` instead.\n",
      "  warnings.warn(\n",
      "C:\\ML\\kaggle\\kaggle_competition\\lib\\site-packages\\xgboost\\sklearn.py:835: UserWarning: `early_stopping_rounds` in `fit` method is deprecated for better compatibility with scikit-learn, use `early_stopping_rounds` in constructor or`set_params` instead.\n",
      "  warnings.warn(\n"
     ]
    },
    {
     "name": "stdout",
     "output_type": "stream",
     "text": [
      "[100]\tvalidation_0-logloss:0.58471\tvalidation_1-logloss:0.46045\n",
      "[200]\tvalidation_0-logloss:0.58460\tvalidation_1-logloss:0.46021\n",
      "[240]\tvalidation_0-logloss:0.58459\tvalidation_1-logloss:0.46023\n",
      "(292,)\n",
      "(292, 1)\n",
      "[0]\tvalidation_0-logloss:0.68382\tvalidation_1-logloss:0.67300\n"
     ]
    },
    {
     "name": "stderr",
     "output_type": "stream",
     "text": [
      "C:\\ML\\kaggle\\kaggle_competition\\lib\\site-packages\\xgboost\\sklearn.py:835: UserWarning: `eval_metric` in `fit` method is deprecated for better compatibility with scikit-learn, use `eval_metric` in constructor or`set_params` instead.\n",
      "  warnings.warn(\n",
      "C:\\ML\\kaggle\\kaggle_competition\\lib\\site-packages\\xgboost\\sklearn.py:835: UserWarning: `early_stopping_rounds` in `fit` method is deprecated for better compatibility with scikit-learn, use `early_stopping_rounds` in constructor or`set_params` instead.\n",
      "  warnings.warn(\n"
     ]
    },
    {
     "name": "stdout",
     "output_type": "stream",
     "text": [
      "[100]\tvalidation_0-logloss:0.58544\tvalidation_1-logloss:0.46657\n",
      "[122]\tvalidation_0-logloss:0.58537\tvalidation_1-logloss:0.46661\n",
      "(291, 5)\n",
      "(1455, 1)\n",
      "[0]\tvalidation_0-logloss:0.68394\tvalidation_1-logloss:0.67264\n"
     ]
    },
    {
     "name": "stderr",
     "output_type": "stream",
     "text": [
      "C:\\ML\\kaggle\\kaggle_competition\\lib\\site-packages\\xgboost\\sklearn.py:835: UserWarning: `eval_metric` in `fit` method is deprecated for better compatibility with scikit-learn, use `eval_metric` in constructor or`set_params` instead.\n",
      "  warnings.warn(\n",
      "C:\\ML\\kaggle\\kaggle_competition\\lib\\site-packages\\xgboost\\sklearn.py:835: UserWarning: `early_stopping_rounds` in `fit` method is deprecated for better compatibility with scikit-learn, use `early_stopping_rounds` in constructor or`set_params` instead.\n",
      "  warnings.warn(\n"
     ]
    },
    {
     "name": "stdout",
     "output_type": "stream",
     "text": [
      "[100]\tvalidation_0-logloss:0.58644\tvalidation_1-logloss:0.47277\n",
      "[110]\tvalidation_0-logloss:0.58638\tvalidation_1-logloss:0.47289\n",
      "(290, 10)\n",
      "(2900, 1)\n"
     ]
    },
    {
     "name": "stderr",
     "output_type": "stream",
     "text": [
      "C:\\ML\\kaggle\\kaggle_competition\\lib\\site-packages\\xgboost\\sklearn.py:835: UserWarning: `eval_metric` in `fit` method is deprecated for better compatibility with scikit-learn, use `eval_metric` in constructor or`set_params` instead.\n",
      "  warnings.warn(\n",
      "C:\\ML\\kaggle\\kaggle_competition\\lib\\site-packages\\xgboost\\sklearn.py:835: UserWarning: `early_stopping_rounds` in `fit` method is deprecated for better compatibility with scikit-learn, use `early_stopping_rounds` in constructor or`set_params` instead.\n",
      "  warnings.warn(\n"
     ]
    },
    {
     "name": "stdout",
     "output_type": "stream",
     "text": [
      "[0]\tvalidation_0-logloss:0.68434\tvalidation_1-logloss:0.67256\n",
      "[89]\tvalidation_0-logloss:0.59015\tvalidation_1-logloss:0.49339\n",
      "(286, 30)\n",
      "(8580, 1)\n",
      "[0]\tvalidation_0-logloss:0.67587\tvalidation_1-logloss:0.68208\n"
     ]
    },
    {
     "name": "stderr",
     "output_type": "stream",
     "text": [
      "C:\\ML\\kaggle\\kaggle_competition\\lib\\site-packages\\xgboost\\sklearn.py:835: UserWarning: `eval_metric` in `fit` method is deprecated for better compatibility with scikit-learn, use `eval_metric` in constructor or`set_params` instead.\n",
      "  warnings.warn(\n",
      "C:\\ML\\kaggle\\kaggle_competition\\lib\\site-packages\\xgboost\\sklearn.py:835: UserWarning: `early_stopping_rounds` in `fit` method is deprecated for better compatibility with scikit-learn, use `early_stopping_rounds` in constructor or`set_params` instead.\n",
      "  warnings.warn(\n"
     ]
    },
    {
     "name": "stdout",
     "output_type": "stream",
     "text": [
      "[100]\tvalidation_0-logloss:0.49347\tvalidation_1-logloss:0.55932\n",
      "[200]\tvalidation_0-logloss:0.49340\tvalidation_1-logloss:0.55871\n",
      "[300]\tvalidation_0-logloss:0.49339\tvalidation_1-logloss:0.55861\n",
      "[400]\tvalidation_0-logloss:0.49339\tvalidation_1-logloss:0.55859\n",
      "[432]\tvalidation_0-logloss:0.49339\tvalidation_1-logloss:0.55859\n",
      "(292,)\n",
      "(292, 1)\n",
      "[0]\tvalidation_0-logloss:0.67595\tvalidation_1-logloss:0.68196\n"
     ]
    },
    {
     "name": "stderr",
     "output_type": "stream",
     "text": [
      "C:\\ML\\kaggle\\kaggle_competition\\lib\\site-packages\\xgboost\\sklearn.py:835: UserWarning: `eval_metric` in `fit` method is deprecated for better compatibility with scikit-learn, use `eval_metric` in constructor or`set_params` instead.\n",
      "  warnings.warn(\n",
      "C:\\ML\\kaggle\\kaggle_competition\\lib\\site-packages\\xgboost\\sklearn.py:835: UserWarning: `early_stopping_rounds` in `fit` method is deprecated for better compatibility with scikit-learn, use `early_stopping_rounds` in constructor or`set_params` instead.\n",
      "  warnings.warn(\n"
     ]
    },
    {
     "name": "stdout",
     "output_type": "stream",
     "text": [
      "[100]\tvalidation_0-logloss:0.49429\tvalidation_1-logloss:0.56434\n",
      "[200]\tvalidation_0-logloss:0.49420\tvalidation_1-logloss:0.56429\n",
      "(291, 5)\n",
      "(1455, 1)\n",
      "[0]\tvalidation_0-logloss:0.67604\tvalidation_1-logloss:0.68169\n"
     ]
    },
    {
     "name": "stderr",
     "output_type": "stream",
     "text": [
      "C:\\ML\\kaggle\\kaggle_competition\\lib\\site-packages\\xgboost\\sklearn.py:835: UserWarning: `eval_metric` in `fit` method is deprecated for better compatibility with scikit-learn, use `eval_metric` in constructor or`set_params` instead.\n",
      "  warnings.warn(\n",
      "C:\\ML\\kaggle\\kaggle_competition\\lib\\site-packages\\xgboost\\sklearn.py:835: UserWarning: `early_stopping_rounds` in `fit` method is deprecated for better compatibility with scikit-learn, use `early_stopping_rounds` in constructor or`set_params` instead.\n",
      "  warnings.warn(\n"
     ]
    },
    {
     "name": "stdout",
     "output_type": "stream",
     "text": [
      "[100]\tvalidation_0-logloss:0.49532\tvalidation_1-logloss:0.56619\n",
      "[119]\tvalidation_0-logloss:0.49527\tvalidation_1-logloss:0.56638\n",
      "(290, 10)\n",
      "(2900, 1)\n"
     ]
    },
    {
     "name": "stderr",
     "output_type": "stream",
     "text": [
      "C:\\ML\\kaggle\\kaggle_competition\\lib\\site-packages\\xgboost\\sklearn.py:835: UserWarning: `eval_metric` in `fit` method is deprecated for better compatibility with scikit-learn, use `eval_metric` in constructor or`set_params` instead.\n",
      "  warnings.warn(\n",
      "C:\\ML\\kaggle\\kaggle_competition\\lib\\site-packages\\xgboost\\sklearn.py:835: UserWarning: `early_stopping_rounds` in `fit` method is deprecated for better compatibility with scikit-learn, use `early_stopping_rounds` in constructor or`set_params` instead.\n",
      "  warnings.warn(\n"
     ]
    },
    {
     "name": "stdout",
     "output_type": "stream",
     "text": [
      "[0]\tvalidation_0-logloss:0.67635\tvalidation_1-logloss:0.68044\n",
      "[88]\tvalidation_0-logloss:0.49901\tvalidation_1-logloss:0.57575\n",
      "(286, 30)\n",
      "(8580, 1)\n"
     ]
    },
    {
     "data": {
      "text/plain": [
       "<Figure size 1440x720 with 0 Axes>"
      ]
     },
     "metadata": {},
     "output_type": "display_data"
    }
   ],
   "source": [
    "xgb_pipe(50, '50d', 'xgb', xgb_predictions_n_errors)"
   ]
  },
  {
   "cell_type": "code",
   "execution_count": 19,
   "metadata": {},
   "outputs": [
    {
     "name": "stdout",
     "output_type": "stream",
     "text": [
      "[0]\tvalidation_0-logloss:0.67796\tvalidation_1-logloss:0.67763\n"
     ]
    },
    {
     "name": "stderr",
     "output_type": "stream",
     "text": [
      "C:\\ML\\kaggle\\kaggle_competition\\lib\\site-packages\\xgboost\\sklearn.py:835: UserWarning: `eval_metric` in `fit` method is deprecated for better compatibility with scikit-learn, use `eval_metric` in constructor or`set_params` instead.\n",
      "  warnings.warn(\n",
      "C:\\ML\\kaggle\\kaggle_competition\\lib\\site-packages\\xgboost\\sklearn.py:835: UserWarning: `early_stopping_rounds` in `fit` method is deprecated for better compatibility with scikit-learn, use `early_stopping_rounds` in constructor or`set_params` instead.\n",
      "  warnings.warn(\n"
     ]
    },
    {
     "name": "stdout",
     "output_type": "stream",
     "text": [
      "[100]\tvalidation_0-logloss:0.51870\tvalidation_1-logloss:0.51834\n",
      "[104]\tvalidation_0-logloss:0.51869\tvalidation_1-logloss:0.51858\n",
      "(286,)\n",
      "(286, 1)\n",
      "[0]\tvalidation_0-logloss:0.67805\tvalidation_1-logloss:0.67710\n"
     ]
    },
    {
     "name": "stderr",
     "output_type": "stream",
     "text": [
      "C:\\ML\\kaggle\\kaggle_competition\\lib\\site-packages\\xgboost\\sklearn.py:835: UserWarning: `eval_metric` in `fit` method is deprecated for better compatibility with scikit-learn, use `eval_metric` in constructor or`set_params` instead.\n",
      "  warnings.warn(\n",
      "C:\\ML\\kaggle\\kaggle_competition\\lib\\site-packages\\xgboost\\sklearn.py:835: UserWarning: `early_stopping_rounds` in `fit` method is deprecated for better compatibility with scikit-learn, use `early_stopping_rounds` in constructor or`set_params` instead.\n",
      "  warnings.warn(\n"
     ]
    },
    {
     "name": "stdout",
     "output_type": "stream",
     "text": [
      "[91]\tvalidation_0-logloss:0.51963\tvalidation_1-logloss:0.53447\n",
      "(285, 5)\n",
      "(1425, 1)\n",
      "[0]\tvalidation_0-logloss:0.67817\tvalidation_1-logloss:0.67617\n"
     ]
    },
    {
     "name": "stderr",
     "output_type": "stream",
     "text": [
      "C:\\ML\\kaggle\\kaggle_competition\\lib\\site-packages\\xgboost\\sklearn.py:835: UserWarning: `eval_metric` in `fit` method is deprecated for better compatibility with scikit-learn, use `eval_metric` in constructor or`set_params` instead.\n",
      "  warnings.warn(\n",
      "C:\\ML\\kaggle\\kaggle_competition\\lib\\site-packages\\xgboost\\sklearn.py:835: UserWarning: `early_stopping_rounds` in `fit` method is deprecated for better compatibility with scikit-learn, use `early_stopping_rounds` in constructor or`set_params` instead.\n",
      "  warnings.warn(\n"
     ]
    },
    {
     "name": "stdout",
     "output_type": "stream",
     "text": [
      "[84]\tvalidation_0-logloss:0.52081\tvalidation_1-logloss:0.54843\n",
      "(284, 10)\n",
      "(2840, 1)\n"
     ]
    },
    {
     "name": "stderr",
     "output_type": "stream",
     "text": [
      "C:\\ML\\kaggle\\kaggle_competition\\lib\\site-packages\\xgboost\\sklearn.py:835: UserWarning: `eval_metric` in `fit` method is deprecated for better compatibility with scikit-learn, use `eval_metric` in constructor or`set_params` instead.\n",
      "  warnings.warn(\n",
      "C:\\ML\\kaggle\\kaggle_competition\\lib\\site-packages\\xgboost\\sklearn.py:835: UserWarning: `early_stopping_rounds` in `fit` method is deprecated for better compatibility with scikit-learn, use `early_stopping_rounds` in constructor or`set_params` instead.\n",
      "  warnings.warn(\n"
     ]
    },
    {
     "name": "stdout",
     "output_type": "stream",
     "text": [
      "[0]\tvalidation_0-logloss:0.67851\tvalidation_1-logloss:0.67549\n",
      "[79]\tvalidation_0-logloss:0.52462\tvalidation_1-logloss:0.55187\n",
      "(280, 30)\n",
      "(8400, 1)\n",
      "[0]\tvalidation_0-logloss:0.68404\tvalidation_1-logloss:0.67337\n"
     ]
    },
    {
     "name": "stderr",
     "output_type": "stream",
     "text": [
      "C:\\ML\\kaggle\\kaggle_competition\\lib\\site-packages\\xgboost\\sklearn.py:835: UserWarning: `eval_metric` in `fit` method is deprecated for better compatibility with scikit-learn, use `eval_metric` in constructor or`set_params` instead.\n",
      "  warnings.warn(\n",
      "C:\\ML\\kaggle\\kaggle_competition\\lib\\site-packages\\xgboost\\sklearn.py:835: UserWarning: `early_stopping_rounds` in `fit` method is deprecated for better compatibility with scikit-learn, use `early_stopping_rounds` in constructor or`set_params` instead.\n",
      "  warnings.warn(\n"
     ]
    },
    {
     "name": "stdout",
     "output_type": "stream",
     "text": [
      "[100]\tvalidation_0-logloss:0.58833\tvalidation_1-logloss:0.46843\n",
      "[113]\tvalidation_0-logloss:0.58829\tvalidation_1-logloss:0.46873\n",
      "(286,)\n",
      "(286, 1)\n",
      "[0]\tvalidation_0-logloss:0.68415\tvalidation_1-logloss:0.67285\n"
     ]
    },
    {
     "name": "stderr",
     "output_type": "stream",
     "text": [
      "C:\\ML\\kaggle\\kaggle_competition\\lib\\site-packages\\xgboost\\sklearn.py:835: UserWarning: `eval_metric` in `fit` method is deprecated for better compatibility with scikit-learn, use `eval_metric` in constructor or`set_params` instead.\n",
      "  warnings.warn(\n",
      "C:\\ML\\kaggle\\kaggle_competition\\lib\\site-packages\\xgboost\\sklearn.py:835: UserWarning: `early_stopping_rounds` in `fit` method is deprecated for better compatibility with scikit-learn, use `early_stopping_rounds` in constructor or`set_params` instead.\n",
      "  warnings.warn(\n"
     ]
    },
    {
     "name": "stdout",
     "output_type": "stream",
     "text": [
      "[97]\tvalidation_0-logloss:0.58917\tvalidation_1-logloss:0.48028\n",
      "(285, 5)\n",
      "(1425, 1)\n",
      "[0]\tvalidation_0-logloss:0.68428\tvalidation_1-logloss:0.67249\n"
     ]
    },
    {
     "name": "stderr",
     "output_type": "stream",
     "text": [
      "C:\\ML\\kaggle\\kaggle_competition\\lib\\site-packages\\xgboost\\sklearn.py:835: UserWarning: `eval_metric` in `fit` method is deprecated for better compatibility with scikit-learn, use `eval_metric` in constructor or`set_params` instead.\n",
      "  warnings.warn(\n",
      "C:\\ML\\kaggle\\kaggle_competition\\lib\\site-packages\\xgboost\\sklearn.py:835: UserWarning: `early_stopping_rounds` in `fit` method is deprecated for better compatibility with scikit-learn, use `early_stopping_rounds` in constructor or`set_params` instead.\n",
      "  warnings.warn(\n"
     ]
    },
    {
     "name": "stdout",
     "output_type": "stream",
     "text": [
      "[92]\tvalidation_0-logloss:0.59028\tvalidation_1-logloss:0.48566\n",
      "(284, 10)\n",
      "(2840, 1)\n"
     ]
    },
    {
     "name": "stderr",
     "output_type": "stream",
     "text": [
      "C:\\ML\\kaggle\\kaggle_competition\\lib\\site-packages\\xgboost\\sklearn.py:835: UserWarning: `eval_metric` in `fit` method is deprecated for better compatibility with scikit-learn, use `eval_metric` in constructor or`set_params` instead.\n",
      "  warnings.warn(\n",
      "C:\\ML\\kaggle\\kaggle_competition\\lib\\site-packages\\xgboost\\sklearn.py:835: UserWarning: `early_stopping_rounds` in `fit` method is deprecated for better compatibility with scikit-learn, use `early_stopping_rounds` in constructor or`set_params` instead.\n",
      "  warnings.warn(\n"
     ]
    },
    {
     "name": "stdout",
     "output_type": "stream",
     "text": [
      "[0]\tvalidation_0-logloss:0.68468\tvalidation_1-logloss:0.67202\n",
      "[86]\tvalidation_0-logloss:0.59415\tvalidation_1-logloss:0.50379\n",
      "(280, 30)\n",
      "(8400, 1)\n",
      "[0]\tvalidation_0-logloss:0.67633\tvalidation_1-logloss:0.68253\n"
     ]
    },
    {
     "name": "stderr",
     "output_type": "stream",
     "text": [
      "C:\\ML\\kaggle\\kaggle_competition\\lib\\site-packages\\xgboost\\sklearn.py:835: UserWarning: `eval_metric` in `fit` method is deprecated for better compatibility with scikit-learn, use `eval_metric` in constructor or`set_params` instead.\n",
      "  warnings.warn(\n",
      "C:\\ML\\kaggle\\kaggle_competition\\lib\\site-packages\\xgboost\\sklearn.py:835: UserWarning: `early_stopping_rounds` in `fit` method is deprecated for better compatibility with scikit-learn, use `early_stopping_rounds` in constructor or`set_params` instead.\n",
      "  warnings.warn(\n"
     ]
    },
    {
     "name": "stdout",
     "output_type": "stream",
     "text": [
      "[100]\tvalidation_0-logloss:0.49960\tvalidation_1-logloss:0.56570\n",
      "[129]\tvalidation_0-logloss:0.49955\tvalidation_1-logloss:0.56580\n",
      "(286,)\n",
      "(286, 1)\n",
      "[0]\tvalidation_0-logloss:0.67642\tvalidation_1-logloss:0.68216\n"
     ]
    },
    {
     "name": "stderr",
     "output_type": "stream",
     "text": [
      "C:\\ML\\kaggle\\kaggle_competition\\lib\\site-packages\\xgboost\\sklearn.py:835: UserWarning: `eval_metric` in `fit` method is deprecated for better compatibility with scikit-learn, use `eval_metric` in constructor or`set_params` instead.\n",
      "  warnings.warn(\n",
      "C:\\ML\\kaggle\\kaggle_competition\\lib\\site-packages\\xgboost\\sklearn.py:835: UserWarning: `early_stopping_rounds` in `fit` method is deprecated for better compatibility with scikit-learn, use `early_stopping_rounds` in constructor or`set_params` instead.\n",
      "  warnings.warn(\n"
     ]
    },
    {
     "name": "stdout",
     "output_type": "stream",
     "text": [
      "[100]\tvalidation_0-logloss:0.50049\tvalidation_1-logloss:0.57826\n",
      "[104]\tvalidation_0-logloss:0.50048\tvalidation_1-logloss:0.57836\n",
      "(285, 5)\n",
      "(1425, 1)\n",
      "[0]\tvalidation_0-logloss:0.67652\tvalidation_1-logloss:0.68181\n"
     ]
    },
    {
     "name": "stderr",
     "output_type": "stream",
     "text": [
      "C:\\ML\\kaggle\\kaggle_competition\\lib\\site-packages\\xgboost\\sklearn.py:835: UserWarning: `eval_metric` in `fit` method is deprecated for better compatibility with scikit-learn, use `eval_metric` in constructor or`set_params` instead.\n",
      "  warnings.warn(\n",
      "C:\\ML\\kaggle\\kaggle_competition\\lib\\site-packages\\xgboost\\sklearn.py:835: UserWarning: `early_stopping_rounds` in `fit` method is deprecated for better compatibility with scikit-learn, use `early_stopping_rounds` in constructor or`set_params` instead.\n",
      "  warnings.warn(\n"
     ]
    },
    {
     "name": "stdout",
     "output_type": "stream",
     "text": [
      "[92]\tvalidation_0-logloss:0.50168\tvalidation_1-logloss:0.58393\n",
      "(284, 10)\n",
      "(2840, 1)\n"
     ]
    },
    {
     "name": "stderr",
     "output_type": "stream",
     "text": [
      "C:\\ML\\kaggle\\kaggle_competition\\lib\\site-packages\\xgboost\\sklearn.py:835: UserWarning: `eval_metric` in `fit` method is deprecated for better compatibility with scikit-learn, use `eval_metric` in constructor or`set_params` instead.\n",
      "  warnings.warn(\n",
      "C:\\ML\\kaggle\\kaggle_competition\\lib\\site-packages\\xgboost\\sklearn.py:835: UserWarning: `early_stopping_rounds` in `fit` method is deprecated for better compatibility with scikit-learn, use `early_stopping_rounds` in constructor or`set_params` instead.\n",
      "  warnings.warn(\n"
     ]
    },
    {
     "name": "stdout",
     "output_type": "stream",
     "text": [
      "[0]\tvalidation_0-logloss:0.67683\tvalidation_1-logloss:0.68044\n",
      "[78]\tvalidation_0-logloss:0.50551\tvalidation_1-logloss:0.60301\n",
      "(280, 30)\n",
      "(8400, 1)\n"
     ]
    },
    {
     "data": {
      "text/plain": [
       "<Figure size 1440x720 with 0 Axes>"
      ]
     },
     "metadata": {},
     "output_type": "display_data"
    }
   ],
   "source": [
    "xgb_pipe(80, '80d', 'xgb', xgb_predictions_n_errors)"
   ]
  },
  {
   "cell_type": "code",
   "execution_count": 528,
   "metadata": {},
   "outputs": [
    {
     "data": {
      "image/png": "[encoded data removed]",
      "text/plain": [
       "<Figure size 1440x720 with 1 Axes>"
      ]
     },
     "metadata": {
      "needs_background": "light"
     },
     "output_type": "display_data"
    }
   ],
   "source": [
    "from xgboost import plot_importance, plot_tree\n",
    "\n",
    "_ = plot_importance(reg, height=0.9 ,max_num_features = 10)"
   ]
  },
  {
   "cell_type": "code",
   "execution_count": 527,
   "metadata": {},
   "outputs": [
    {
     "data": {
      "image/png": "[encoded data removed]",
      "text/plain": [
       "<Figure size 1440x720 with 1 Axes>"
      ]
     },
     "metadata": {
      "needs_background": "light"
     },
     "output_type": "display_data"
    }
   ],
   "source": [
    "# retrieve performance metrics\n",
    "results = reg.evals_result()\n",
    "\n",
    "\n",
    "plt.plot(results['validation_0']['logloss'], label='train')\n",
    "plt.plot(results['validation_1']['logloss'], label='test')\n",
    "# show the legend\n",
    "plt.legend()\n",
    "# show the plot\n",
    "plt.show()"
   ]
  },
  {
   "cell_type": "code",
   "execution_count": null,
   "metadata": {},
   "outputs": [],
   "source": []
  }
 ],
 "metadata": {
  "kernelspec": {
   "display_name": "Python 3 (ipykernel)",
   "language": "python",
   "name": "python3"
  },
  "language_info": {
   "codemirror_mode": {
    "name": "ipython",
    "version": 3
   },
   "file_extension": ".py",
   "mimetype": "text/x-python",
   "name": "python",
   "nbconvert_exporter": "python",
   "pygments_lexer": "ipython3",
   "version": "3.9.7"
  },
  "orig_nbformat": 4
 },
 "nbformat": 4,
 "nbformat_minor": 2
}
