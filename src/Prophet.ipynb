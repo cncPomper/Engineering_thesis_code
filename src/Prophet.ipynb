{
 "cells": [
  {
   "cell_type": "code",
   "execution_count": 1,
   "metadata": {},
   "outputs": [],
   "source": [
    "import os\n",
    "import pandas as pd\n",
    "import numpy as np\n",
    "import matplotlib.pyplot as plt\n",
    "from sklearn.metrics import mean_absolute_error\n",
    "\n",
    "import yfinance as yf\n",
    "from yahooquery import Ticker\n",
    "from yahooquery import Screener\n",
    "# import plotly.graph_objects as go\n",
    "\n",
    "from sklearn.model_selection import TimeSeriesSplit  # you have everything done for you\n",
    "from statsmodels.tsa.seasonal import seasonal_decompose\n",
    "from statsmodels.tsa.stattools import adfuller\n",
    "from pandas.core.window import Rolling\n",
    "import statsmodels.api as sm \n",
    "\n",
    "from pmdarima.arima import auto_arima\n",
    "from pmdarima import pipeline\n",
    "from pmdarima import model_selection\n",
    "from pmdarima import preprocessing as ppc\n",
    "from pmdarima import arima"
   ]
  },
  {
   "cell_type": "code",
   "execution_count": null,
   "metadata": {},
   "outputs": [],
   "source": []
  }
 ],
 "metadata": {
  "kernelspec": {
   "display_name": "Python 3 (ipykernel)",
   "language": "python",
   "name": "python3"
  },
  "language_info": {
   "codemirror_mode": {
    "name": "ipython",
    "version": 3
   },
   "file_extension": ".py",
   "mimetype": "text/x-python",
   "name": "python",
   "nbconvert_exporter": "python",
   "pygments_lexer": "ipython3",
   "version": "3.9.7"
  },
  "orig_nbformat": 4
 },
 "nbformat": 4,
 "nbformat_minor": 2
}
